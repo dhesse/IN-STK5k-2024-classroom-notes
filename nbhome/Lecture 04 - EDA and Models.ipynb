{
 "cells": [
  {
   "cell_type": "markdown",
   "metadata": {},
   "source": [
    "# Lecture 4 - Exploratory data analysis, training models\n",
    "\n",
    "## The plan\n",
    "\n",
    "- Business context of data\n",
    "- Feature exploration\n",
    "  - Categoricals\n",
    "\t- Support\n",
    "  - Scaling\n",
    "- (Outliers, missing data)\n",
    "- Correlations\n",
    "- Fitting a model in scikit-learn\n",
    "- Evalutating a model\n",
    "\n",
    "<img src=\"img/presentation.jpeg\" style=\"width:40vw\">\n",
    "\n",
    "# The Business Context of Data\n",
    "\n",
    "- Always need subject matter expertise, not obvious from data alone\n",
    "  - Subject matter experts (SMEs) usually part of a project team\n",
    "- In the lectures, we need to 'invent' the business context\n",
    "\n",
    "### It is essential to get this right.\n",
    "### If not, you will solve the wrong problem!\n"
   ]
  },
  {
   "cell_type": "markdown",
   "metadata": {},
   "source": [
    "# Reading the data"
   ]
  },
  {
   "cell_type": "markdown",
   "metadata": {},
   "source": [
    "# Buisness Cases\n",
    "\n",
    "- Customized adertising\n",
    "  - Marketing the right product to the right audience\n",
    "    - Positives, and negatives. Aggressive marketing vs. wasteing people's time?\n",
    "- Evaluating credit risk\n",
    "- Quantifying career advise\n",
    "  - Biases?\n",
    "\n",
    "# Problems With a Data Set Like This\n",
    "\n",
    "- Introducing biases\n",
    "  - E.g. racial and gender biases\n",
    "- Neglecting privacy\n",
    "- GDPR?\n",
    "\n",
    "## Try asking Chat GPT\n",
    "\n",
    "Reflect on which problems you see with a dataset like this. Now ask ChatGPT which problems it sees. Are there any you would not have thought of?\n",
    "\n",
    "    A dataset is collected containing demorgraphic information, such as age, gender, race, as well as education, occupation, hors worked per week, and income data. What potential business cases could be served with such a dataset? What problems do you see, ethical and practical?"
   ]
  },
  {
   "cell_type": "markdown",
   "metadata": {},
   "source": [
    "## DISCLAIMER\n",
    "\n",
    "In a real-world application, samples should be weighted by the fnlwgt column. We will ignore this here at our own peril."
   ]
  },
  {
   "cell_type": "markdown",
   "metadata": {},
   "source": [
    "## General shape of the data, correlations etc."
   ]
  },
  {
   "cell_type": "markdown",
   "metadata": {},
   "source": [
    "## Outliers"
   ]
  },
  {
   "cell_type": "markdown",
   "metadata": {},
   "source": [
    "# An example business case - Advertising\n",
    "\n",
    "- A company makes 5 USD profit per conversion, with a conversion rate of 0.1 for those in a 'high income' class.\n",
    "- If we have a budget to target 10k people, how would our profit cahnge if we could could identify the 'Exec-managerial' group?"
   ]
  },
  {
   "cell_type": "markdown",
   "metadata": {},
   "source": [
    "## Base Case"
   ]
  },
  {
   "cell_type": "markdown",
   "metadata": {},
   "source": [
    "## Execl-managerial only"
   ]
  },
  {
   "cell_type": "markdown",
   "metadata": {},
   "source": [
    "## Can we do better, by predicting the class with a multivariate model?"
   ]
  },
  {
   "cell_type": "markdown",
   "metadata": {},
   "source": [
    "# Updated business case:"
   ]
  },
  {
   "cell_type": "markdown",
   "metadata": {},
   "source": [
    "### Q: Why is this not performing better than our one-occupation case?"
   ]
  },
  {
   "cell_type": "markdown",
   "metadata": {},
   "source": [
    "## Even better business case:\n",
    "\n",
    "- What if you start to factor in cost of advertising?\n",
    "- How does your business case depend on the conversion rate, for both groups?\n",
    "- Advanced: Can you segment users who have a particularly high conversion rate?"
   ]
  },
  {
   "cell_type": "markdown",
   "metadata": {},
   "source": [
    "## If Time: A cautionary exampled"
   ]
  },
  {
   "cell_type": "markdown",
   "metadata": {},
   "source": [
    "## Optional: Pipelines\n"
   ]
  }
 ],
 "metadata": {
  "kernelspec": {
   "display_name": "Python 3",
   "language": "python",
   "name": "python3"
  },
  "language_info": {
   "codemirror_mode": {
    "name": "ipython",
    "version": 3
   },
   "file_extension": ".py",
   "mimetype": "text/x-python",
   "name": "python",
   "nbconvert_exporter": "python",
   "pygments_lexer": "ipython3",
   "version": "3.11.6"
  }
 },
 "nbformat": 4,
 "nbformat_minor": 2
}
